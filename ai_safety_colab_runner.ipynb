{
 "cells": [
  {
   "cell_type": "markdown",
   "id": "b388a97a",
   "metadata": {},
   "source": [
    "# 🧪 AI Safety Benchmark - Google Colab Runner\n",
    "Run your AI safety benchmark directly in Google Colab using GPT-2.  \n",
    "Created by **Vineeth Animireddy**\n"
   ]
  },
  {
   "cell_type": "code",
   "execution_count": null,
   "id": "523a1b3c",
   "metadata": {},
   "outputs": [],
   "source": [
    "!pip install transformers torch pandas tqdm\n"
   ]
  },
  {
   "cell_type": "code",
   "execution_count": null,
   "id": "c32fbefe",
   "metadata": {},
   "outputs": [],
   "source": [
    "!git clone https://github.com/Vineeth2002/ai-safety-benchmark.git\n",
    "%cd ai-safety-benchmark\n",
    "!ls\n"
   ]
  },
  {
   "cell_type": "code",
   "execution_count": null,
   "id": "33502a26",
   "metadata": {},
   "outputs": [],
   "source": [
    "!python3 benchmark/run_benchmark.py\n"
   ]
  }
 ],
 "metadata": {},
 "nbformat": 4,
 "nbformat_minor": 5
}
